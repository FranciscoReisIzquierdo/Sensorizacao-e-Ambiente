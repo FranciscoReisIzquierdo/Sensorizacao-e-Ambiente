{
 "cells": [
  {
   "cell_type": "code",
   "execution_count": 17,
   "id": "ea452d6d",
   "metadata": {},
   "outputs": [
    {
     "name": "stdout",
     "output_type": "stream",
     "text": [
      "Requirement already satisfied: pynput in /home/franciscoizquierdo/anaconda3/envs/SensorizacaoeAmbiente/lib/python3.9/site-packages (1.7.6)\r\n",
      "Requirement already satisfied: evdev>=1.3 in /home/franciscoizquierdo/anaconda3/envs/SensorizacaoeAmbiente/lib/python3.9/site-packages (from pynput) (1.6.1)\r\n",
      "Requirement already satisfied: six in /home/franciscoizquierdo/anaconda3/envs/SensorizacaoeAmbiente/lib/python3.9/site-packages (from pynput) (1.16.0)\r\n",
      "Requirement already satisfied: python-xlib>=0.17 in /home/franciscoizquierdo/anaconda3/envs/SensorizacaoeAmbiente/lib/python3.9/site-packages (from pynput) (0.33)\r\n"
     ]
    }
   ],
   "source": [
    "!pip install pynput"
   ]
  },
  {
   "cell_type": "code",
   "execution_count": 64,
   "id": "9e2945e7",
   "metadata": {},
   "outputs": [],
   "source": [
    "from pynput import keyboard\n",
    "import datetime"
   ]
  },
  {
   "cell_type": "markdown",
   "id": "b573cf0b",
   "metadata": {},
   "source": [
    "### detect key press"
   ]
  },
  {
   "cell_type": "code",
   "execution_count": 65,
   "id": "08d3b836",
   "metadata": {},
   "outputs": [],
   "source": [
    "def on_press(key):\n",
    "    try:\n",
    "        print('alphanumeric key {0} pressed'.format(key.char))\n",
    "        f.write(get_current_time() + '|' + \" Alphanumeric key pressed: \" + '| ' + format(key.char) + '\\n')\n",
    "    except:\n",
    "        print('special key {0} pressed'.format(key))\n",
    "        f.write(get_current_time() + '|' + \"Special key pressed: \" + '| ' + format(key) + '\\n')"
   ]
  },
  {
   "cell_type": "markdown",
   "id": "5d599803",
   "metadata": {},
   "source": [
    "### detect key releases"
   ]
  },
  {
   "cell_type": "code",
   "execution_count": 66,
   "id": "db559e30",
   "metadata": {},
   "outputs": [],
   "source": [
    "def on_release(key):\n",
    "    print('{0} released'.format(key))\n",
    "    if key == keyboard.Key.esc:\n",
    "        f.write(get_current_time() + '|' + \"Gracefully Stopping witk key: \" + '| ' + format(key) + '\\n')\n",
    "        #stop listener\n",
    "        print('Gracefully Stopping!')\n",
    "        f.close()\n",
    "        return False "
   ]
  },
  {
   "cell_type": "code",
   "execution_count": 67,
   "id": "9c1a5cca",
   "metadata": {},
   "outputs": [],
   "source": [
    "def get_current_time():\n",
    "    now = datetime.datetime.now()\n",
    "    return now.strftime(\"%Y-%m-%d %H:%M:%S\")"
   ]
  },
  {
   "cell_type": "code",
   "execution_count": 69,
   "id": "542d9331",
   "metadata": {},
   "outputs": [
    {
     "name": "stdout",
     "output_type": "stream",
     "text": [
      "special key Key.backspace pressed\n",
      "Key.backspace released\n",
      "alphanumeric key d pressed\n",
      "'d' released\n",
      "alphanumeric key w pressed\n",
      "'w' released\n",
      "alphanumeric key f pressed\n",
      "alphanumeric key n pressed\n",
      "'f' released\n",
      "'n' released\n",
      "alphanumeric key 3 pressed\n",
      "'3' released\n",
      "alphanumeric key u pressed\n",
      "alphanumeric key c pressed\n",
      "'u' released\n",
      "alphanumeric key h pressed\n",
      "'c' released\n",
      "'h' released\n",
      "alphanumeric key 3 pressed\n",
      "'3' released\n",
      "alphanumeric key n pressed\n",
      "'n' released\n",
      "alphanumeric key f pressed\n",
      "'f' released\n",
      "alphanumeric key u pressed\n",
      "'u' released\n",
      "special key Key.esc pressed\n",
      "Key.esc released\n",
      "Gracefully Stopping!\n"
     ]
    }
   ],
   "source": [
    "with keyboard.Listener(on_press=on_press,on_release=on_release) as listener:\n",
    "    f = open('logger.txt', 'a')\n",
    "    listener.join()"
   ]
  },
  {
   "cell_type": "code",
   "execution_count": null,
   "id": "3a4775a0",
   "metadata": {},
   "outputs": [],
   "source": [
    "dwfn3uch3nfu"
   ]
  }
 ],
 "metadata": {
  "kernelspec": {
   "display_name": "Python 3 (ipykernel)",
   "language": "python",
   "name": "python3"
  },
  "language_info": {
   "codemirror_mode": {
    "name": "ipython",
    "version": 3
   },
   "file_extension": ".py",
   "mimetype": "text/x-python",
   "name": "python",
   "nbconvert_exporter": "python",
   "pygments_lexer": "ipython3",
   "version": "3.9.16"
  }
 },
 "nbformat": 4,
 "nbformat_minor": 5
}
