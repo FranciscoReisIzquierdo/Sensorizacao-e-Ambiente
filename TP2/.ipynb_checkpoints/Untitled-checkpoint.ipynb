{
 "cells": [
  {
   "cell_type": "code",
   "execution_count": 17,
   "id": "3ac60f93",
   "metadata": {},
   "outputs": [
    {
     "name": "stdout",
     "output_type": "stream",
     "text": [
      "Requirement already satisfied: pynput in /home/franciscoizquierdo/anaconda3/envs/SensorizacaoeAmbiente/lib/python3.9/site-packages (1.7.6)\r\n",
      "Requirement already satisfied: evdev>=1.3 in /home/franciscoizquierdo/anaconda3/envs/SensorizacaoeAmbiente/lib/python3.9/site-packages (from pynput) (1.6.1)\r\n",
      "Requirement already satisfied: six in /home/franciscoizquierdo/anaconda3/envs/SensorizacaoeAmbiente/lib/python3.9/site-packages (from pynput) (1.16.0)\r\n",
      "Requirement already satisfied: python-xlib>=0.17 in /home/franciscoizquierdo/anaconda3/envs/SensorizacaoeAmbiente/lib/python3.9/site-packages (from pynput) (0.33)\r\n"
     ]
    }
   ],
   "source": [
    "!pip install pynput"
   ]
  },
  {
   "cell_type": "code",
   "execution_count": 36,
   "id": "f6a4fdb5",
   "metadata": {},
   "outputs": [],
   "source": [
    "from pynput import keyboard\n",
    "import datetime"
   ]
  },
  {
   "cell_type": "markdown",
   "id": "a80feca5",
   "metadata": {},
   "source": [
    "### detect key press"
   ]
  },
  {
   "cell_type": "code",
   "execution_count": 42,
   "id": "5aa37663",
   "metadata": {},
   "outputs": [],
   "source": [
    "def on_press(key):\n",
    "    try:\n",
    "        print('alphanumeric key {0} pressed'.format(key.char))\n",
    "        f.write(get_current_time() + '|' + \" Alphanumeric key pressed: \" + '|' + key + '\\n')\n",
    "    except:\n",
    "        print('special key {0} pressed'.format(key))\n",
    "        f.write(get_current_time() + '|' + \"Special key pressed: \" + '|' + key + '\\n')"
   ]
  },
  {
   "cell_type": "markdown",
   "id": "fdb5861e",
   "metadata": {},
   "source": [
    "### detect key releases"
   ]
  },
  {
   "cell_type": "code",
   "execution_count": 43,
   "id": "b81dc27a",
   "metadata": {},
   "outputs": [],
   "source": [
    "def on_release(key):\n",
    "    print('{0} released'.format(key))\n",
    "    if key == keyboard.Key.esc:\n",
    "        f.write(get_current_time() + '|' + \"Gracefully Stopping witk key: \" + '|' + key + '\\n')\n",
    "        #stop listener\n",
    "        print('Gracefully Stopping!')\n",
    "        f.close()\n",
    "        return False "
   ]
  },
  {
   "cell_type": "code",
   "execution_count": 44,
   "id": "e2fd9d1a",
   "metadata": {},
   "outputs": [],
   "source": [
    "def get_current_time():\n",
    "    now = datetime.datetime.now()\n",
    "    return now.strftime(\"%Y-%m-%d %H:%M:%S\")"
   ]
  },
  {
   "cell_type": "code",
   "execution_count": 46,
   "id": "1e936096",
   "metadata": {},
   "outputs": [
    {
     "name": "stderr",
     "output_type": "stream",
     "text": [
      "Unhandled exception in listener callback\n",
      "Traceback (most recent call last):\n",
      "  File \"/tmp/ipykernel_5605/1991924762.py\", line 4, in on_press\n",
      "    f.write(timestamp + '|' + event + '|' + value + '\\n')\n",
      "NameError: name 'timestamp' is not defined\n",
      "\n",
      "During handling of the above exception, another exception occurred:\n",
      "\n",
      "Traceback (most recent call last):\n",
      "  File \"/home/franciscoizquierdo/anaconda3/envs/SensorizacaoeAmbiente/lib/python3.9/site-packages/pynput/_util/__init__.py\", line 228, in inner\n",
      "    return f(self, *args, **kwargs)\n",
      "  File \"/home/franciscoizquierdo/anaconda3/envs/SensorizacaoeAmbiente/lib/python3.9/site-packages/pynput/_util/xorg.py\", line 470, in _handler\n",
      "    self._handle(self._display_stop, event)\n",
      "  File \"/home/franciscoizquierdo/anaconda3/envs/SensorizacaoeAmbiente/lib/python3.9/site-packages/pynput/keyboard/_xorg.py\", line 564, in _handle\n",
      "    self.on_press(key)\n",
      "  File \"/home/franciscoizquierdo/anaconda3/envs/SensorizacaoeAmbiente/lib/python3.9/site-packages/pynput/_util/__init__.py\", line 144, in inner\n",
      "    if f(*args) is False:\n",
      "  File \"/tmp/ipykernel_5605/1991924762.py\", line 7, in on_press\n",
      "    f.write(timestamp + '|' + event + '|' + value + '\\n')\n",
      "NameError: name 'timestamp' is not defined\n"
     ]
    },
    {
     "name": "stdout",
     "output_type": "stream",
     "text": [
      "alphanumeric key a pressed\n",
      "special key 'a' pressed\n"
     ]
    },
    {
     "ename": "NameError",
     "evalue": "name 'timestamp' is not defined",
     "output_type": "error",
     "traceback": [
      "\u001b[0;31m---------------------------------------------------------------------------\u001b[0m",
      "\u001b[0;31mNameError\u001b[0m                                 Traceback (most recent call last)",
      "Cell \u001b[0;32mIn[42], line 4\u001b[0m, in \u001b[0;36mon_press\u001b[0;34m(key)\u001b[0m\n\u001b[1;32m      3\u001b[0m     \u001b[38;5;28mprint\u001b[39m(\u001b[38;5;124m'\u001b[39m\u001b[38;5;124malphanumeric key \u001b[39m\u001b[38;5;132;01m{0}\u001b[39;00m\u001b[38;5;124m pressed\u001b[39m\u001b[38;5;124m'\u001b[39m\u001b[38;5;241m.\u001b[39mformat(key\u001b[38;5;241m.\u001b[39mchar))\n\u001b[0;32m----> 4\u001b[0m     f\u001b[38;5;241m.\u001b[39mwrite(\u001b[43mtimestamp\u001b[49m \u001b[38;5;241m+\u001b[39m \u001b[38;5;124m'\u001b[39m\u001b[38;5;124m|\u001b[39m\u001b[38;5;124m'\u001b[39m \u001b[38;5;241m+\u001b[39m event \u001b[38;5;241m+\u001b[39m \u001b[38;5;124m'\u001b[39m\u001b[38;5;124m|\u001b[39m\u001b[38;5;124m'\u001b[39m \u001b[38;5;241m+\u001b[39m value \u001b[38;5;241m+\u001b[39m \u001b[38;5;124m'\u001b[39m\u001b[38;5;130;01m\\n\u001b[39;00m\u001b[38;5;124m'\u001b[39m)\n\u001b[1;32m      5\u001b[0m \u001b[38;5;28;01mexcept\u001b[39;00m:\n",
      "\u001b[0;31mNameError\u001b[0m: name 'timestamp' is not defined",
      "\nDuring handling of the above exception, another exception occurred:\n",
      "\u001b[0;31mNameError\u001b[0m                                 Traceback (most recent call last)",
      "Cell \u001b[0;32mIn[46], line 3\u001b[0m\n\u001b[1;32m      1\u001b[0m \u001b[38;5;28;01mwith\u001b[39;00m keyboard\u001b[38;5;241m.\u001b[39mListener(on_press\u001b[38;5;241m=\u001b[39mon_press,on_release\u001b[38;5;241m=\u001b[39mon_release) \u001b[38;5;28;01mas\u001b[39;00m listener:\n\u001b[1;32m      2\u001b[0m     f \u001b[38;5;241m=\u001b[39m \u001b[38;5;28mopen\u001b[39m(\u001b[38;5;124m'\u001b[39m\u001b[38;5;124mlogger.txt\u001b[39m\u001b[38;5;124m'\u001b[39m, \u001b[38;5;124m'\u001b[39m\u001b[38;5;124ma\u001b[39m\u001b[38;5;124m'\u001b[39m)\n\u001b[0;32m----> 3\u001b[0m     \u001b[43mlistener\u001b[49m\u001b[38;5;241;43m.\u001b[39;49m\u001b[43mjoin\u001b[49m\u001b[43m(\u001b[49m\u001b[43m)\u001b[49m\n",
      "File \u001b[0;32m~/anaconda3/envs/SensorizacaoeAmbiente/lib/python3.9/site-packages/pynput/_util/__init__.py:276\u001b[0m, in \u001b[0;36mAbstractListener.join\u001b[0;34m(self, *args)\u001b[0m\n\u001b[1;32m    274\u001b[0m \u001b[38;5;28;01mexcept\u001b[39;00m \u001b[38;5;167;01mTypeError\u001b[39;00m:\n\u001b[1;32m    275\u001b[0m     \u001b[38;5;28;01mreturn\u001b[39;00m\n\u001b[0;32m--> 276\u001b[0m \u001b[43msix\u001b[49m\u001b[38;5;241;43m.\u001b[39;49m\u001b[43mreraise\u001b[49m\u001b[43m(\u001b[49m\u001b[43mexc_type\u001b[49m\u001b[43m,\u001b[49m\u001b[43m \u001b[49m\u001b[43mexc_value\u001b[49m\u001b[43m,\u001b[49m\u001b[43m \u001b[49m\u001b[43mexc_traceback\u001b[49m\u001b[43m)\u001b[49m\n",
      "File \u001b[0;32m~/anaconda3/envs/SensorizacaoeAmbiente/lib/python3.9/site-packages/six.py:718\u001b[0m, in \u001b[0;36mreraise\u001b[0;34m(tp, value, tb)\u001b[0m\n\u001b[1;32m    716\u001b[0m         value \u001b[38;5;241m=\u001b[39m tp()\n\u001b[1;32m    717\u001b[0m     \u001b[38;5;28;01mif\u001b[39;00m value\u001b[38;5;241m.\u001b[39m__traceback__ \u001b[38;5;129;01mis\u001b[39;00m \u001b[38;5;129;01mnot\u001b[39;00m tb:\n\u001b[0;32m--> 718\u001b[0m         \u001b[38;5;28;01mraise\u001b[39;00m value\u001b[38;5;241m.\u001b[39mwith_traceback(tb)\n\u001b[1;32m    719\u001b[0m     \u001b[38;5;28;01mraise\u001b[39;00m value\n\u001b[1;32m    720\u001b[0m \u001b[38;5;28;01mfinally\u001b[39;00m:\n",
      "File \u001b[0;32m~/anaconda3/envs/SensorizacaoeAmbiente/lib/python3.9/site-packages/pynput/_util/__init__.py:228\u001b[0m, in \u001b[0;36mAbstractListener._emitter.<locals>.inner\u001b[0;34m(self, *args, **kwargs)\u001b[0m\n\u001b[1;32m    224\u001b[0m \u001b[38;5;129m@functools\u001b[39m\u001b[38;5;241m.\u001b[39mwraps(f)\n\u001b[1;32m    225\u001b[0m \u001b[38;5;28;01mdef\u001b[39;00m \u001b[38;5;21minner\u001b[39m(\u001b[38;5;28mself\u001b[39m, \u001b[38;5;241m*\u001b[39margs, \u001b[38;5;241m*\u001b[39m\u001b[38;5;241m*\u001b[39mkwargs):\n\u001b[1;32m    226\u001b[0m     \u001b[38;5;66;03m# pylint: disable=W0702; we want to catch all exception\u001b[39;00m\n\u001b[1;32m    227\u001b[0m     \u001b[38;5;28;01mtry\u001b[39;00m:\n\u001b[0;32m--> 228\u001b[0m         \u001b[38;5;28;01mreturn\u001b[39;00m \u001b[43mf\u001b[49m\u001b[43m(\u001b[49m\u001b[38;5;28;43mself\u001b[39;49m\u001b[43m,\u001b[49m\u001b[43m \u001b[49m\u001b[38;5;241;43m*\u001b[39;49m\u001b[43margs\u001b[49m\u001b[43m,\u001b[49m\u001b[43m \u001b[49m\u001b[38;5;241;43m*\u001b[39;49m\u001b[38;5;241;43m*\u001b[39;49m\u001b[43mkwargs\u001b[49m\u001b[43m)\u001b[49m\n\u001b[1;32m    229\u001b[0m     \u001b[38;5;28;01mexcept\u001b[39;00m \u001b[38;5;167;01mException\u001b[39;00m \u001b[38;5;28;01mas\u001b[39;00m e:\n\u001b[1;32m    230\u001b[0m         \u001b[38;5;28;01mif\u001b[39;00m \u001b[38;5;129;01mnot\u001b[39;00m \u001b[38;5;28misinstance\u001b[39m(e, \u001b[38;5;28mself\u001b[39m\u001b[38;5;241m.\u001b[39m_HANDLED_EXCEPTIONS):\n",
      "File \u001b[0;32m~/anaconda3/envs/SensorizacaoeAmbiente/lib/python3.9/site-packages/pynput/_util/xorg.py:470\u001b[0m, in \u001b[0;36mListenerMixin._handler\u001b[0;34m(self, events)\u001b[0m\n\u001b[1;32m    467\u001b[0m \u001b[38;5;28;01mwhile\u001b[39;00m data \u001b[38;5;129;01mand\u001b[39;00m \u001b[38;5;28mlen\u001b[39m(data):\n\u001b[1;32m    468\u001b[0m     event, data \u001b[38;5;241m=\u001b[39m \u001b[38;5;28mself\u001b[39m\u001b[38;5;241m.\u001b[39m_EVENT_PARSER\u001b[38;5;241m.\u001b[39mparse_binary_value(\n\u001b[1;32m    469\u001b[0m         data, \u001b[38;5;28mself\u001b[39m\u001b[38;5;241m.\u001b[39m_display_record\u001b[38;5;241m.\u001b[39mdisplay, \u001b[38;5;28;01mNone\u001b[39;00m, \u001b[38;5;28;01mNone\u001b[39;00m)\n\u001b[0;32m--> 470\u001b[0m     \u001b[38;5;28;43mself\u001b[39;49m\u001b[38;5;241;43m.\u001b[39;49m\u001b[43m_handle\u001b[49m\u001b[43m(\u001b[49m\u001b[38;5;28;43mself\u001b[39;49m\u001b[38;5;241;43m.\u001b[39;49m\u001b[43m_display_stop\u001b[49m\u001b[43m,\u001b[49m\u001b[43m \u001b[49m\u001b[43mevent\u001b[49m\u001b[43m)\u001b[49m\n",
      "File \u001b[0;32m~/anaconda3/envs/SensorizacaoeAmbiente/lib/python3.9/site-packages/pynput/keyboard/_xorg.py:564\u001b[0m, in \u001b[0;36mListener._handle\u001b[0;34m(self, display, event)\u001b[0m\n\u001b[1;32m    561\u001b[0m     key \u001b[38;5;241m=\u001b[39m \u001b[38;5;28;01mNone\u001b[39;00m\n\u001b[1;32m    563\u001b[0m \u001b[38;5;28;01mif\u001b[39;00m event\u001b[38;5;241m.\u001b[39mtype \u001b[38;5;241m==\u001b[39m Xlib\u001b[38;5;241m.\u001b[39mX\u001b[38;5;241m.\u001b[39mKeyPress:\n\u001b[0;32m--> 564\u001b[0m     \u001b[38;5;28;43mself\u001b[39;49m\u001b[38;5;241;43m.\u001b[39;49m\u001b[43mon_press\u001b[49m\u001b[43m(\u001b[49m\u001b[43mkey\u001b[49m\u001b[43m)\u001b[49m\n\u001b[1;32m    566\u001b[0m \u001b[38;5;28;01melif\u001b[39;00m event\u001b[38;5;241m.\u001b[39mtype \u001b[38;5;241m==\u001b[39m Xlib\u001b[38;5;241m.\u001b[39mX\u001b[38;5;241m.\u001b[39mKeyRelease:\n\u001b[1;32m    567\u001b[0m     \u001b[38;5;28mself\u001b[39m\u001b[38;5;241m.\u001b[39mon_release(key)\n",
      "File \u001b[0;32m~/anaconda3/envs/SensorizacaoeAmbiente/lib/python3.9/site-packages/pynput/_util/__init__.py:144\u001b[0m, in \u001b[0;36mAbstractListener.__init__.<locals>.wrapper.<locals>.inner\u001b[0;34m(*args)\u001b[0m\n\u001b[1;32m    143\u001b[0m \u001b[38;5;28;01mdef\u001b[39;00m \u001b[38;5;21minner\u001b[39m(\u001b[38;5;241m*\u001b[39margs):\n\u001b[0;32m--> 144\u001b[0m     \u001b[38;5;28;01mif\u001b[39;00m \u001b[43mf\u001b[49m\u001b[43m(\u001b[49m\u001b[38;5;241;43m*\u001b[39;49m\u001b[43margs\u001b[49m\u001b[43m)\u001b[49m \u001b[38;5;129;01mis\u001b[39;00m \u001b[38;5;28;01mFalse\u001b[39;00m:\n\u001b[1;32m    145\u001b[0m         \u001b[38;5;28;01mraise\u001b[39;00m \u001b[38;5;28mself\u001b[39m\u001b[38;5;241m.\u001b[39mStopException()\n",
      "Cell \u001b[0;32mIn[42], line 7\u001b[0m, in \u001b[0;36mon_press\u001b[0;34m(key)\u001b[0m\n\u001b[1;32m      5\u001b[0m \u001b[38;5;28;01mexcept\u001b[39;00m:\n\u001b[1;32m      6\u001b[0m     \u001b[38;5;28mprint\u001b[39m(\u001b[38;5;124m'\u001b[39m\u001b[38;5;124mspecial key \u001b[39m\u001b[38;5;132;01m{0}\u001b[39;00m\u001b[38;5;124m pressed\u001b[39m\u001b[38;5;124m'\u001b[39m\u001b[38;5;241m.\u001b[39mformat(key))\n\u001b[0;32m----> 7\u001b[0m     f\u001b[38;5;241m.\u001b[39mwrite(\u001b[43mtimestamp\u001b[49m \u001b[38;5;241m+\u001b[39m \u001b[38;5;124m'\u001b[39m\u001b[38;5;124m|\u001b[39m\u001b[38;5;124m'\u001b[39m \u001b[38;5;241m+\u001b[39m event \u001b[38;5;241m+\u001b[39m \u001b[38;5;124m'\u001b[39m\u001b[38;5;124m|\u001b[39m\u001b[38;5;124m'\u001b[39m \u001b[38;5;241m+\u001b[39m value \u001b[38;5;241m+\u001b[39m \u001b[38;5;124m'\u001b[39m\u001b[38;5;130;01m\\n\u001b[39;00m\u001b[38;5;124m'\u001b[39m)\n",
      "\u001b[0;31mNameError\u001b[0m: name 'timestamp' is not defined"
     ]
    }
   ],
   "source": [
    "with keyboard.Listener(on_press=on_press,on_release=on_release) as listener:\n",
    "    f = open('logger.txt', 'a')\n",
    "    listener.join()"
   ]
  },
  {
   "cell_type": "code",
   "execution_count": null,
   "id": "f7e07787",
   "metadata": {},
   "outputs": [],
   "source": [
    "a"
   ]
  }
 ],
 "metadata": {
  "kernelspec": {
   "display_name": "Python 3 (ipykernel)",
   "language": "python",
   "name": "python3"
  },
  "language_info": {
   "codemirror_mode": {
    "name": "ipython",
    "version": 3
   },
   "file_extension": ".py",
   "mimetype": "text/x-python",
   "name": "python",
   "nbconvert_exporter": "python",
   "pygments_lexer": "ipython3",
   "version": "3.9.16"
  }
 },
 "nbformat": 4,
 "nbformat_minor": 5
}
